{
 "cells": [
  {
   "cell_type": "markdown",
   "metadata": {},
   "source": [
    "This chapter is mostly about Python commands that are not Sage-specific."
   ]
  },
  {
   "cell_type": "code",
   "execution_count": 1,
   "metadata": {},
   "outputs": [
    {
     "name": "stdout",
     "output_type": "stream",
     "text": [
      "31\n"
     ]
    }
   ],
   "source": [
    "import keyword\n",
    "print(len(keyword.kwlist))\n",
    "%display latex"
   ]
  },
  {
   "cell_type": "code",
   "execution_count": 2,
   "metadata": {},
   "outputs": [
    {
     "name": "stdout",
     "output_type": "stream",
     "text": [
      "1\n",
      "2\n",
      "3\n",
      "4\n",
      "5\n",
      "1\n",
      "2\n",
      "3\n",
      "4\n",
      "[pi, pi + 1, pi + 2, pi + 3, pi + 4, pi + 5, pi + 6, pi + 7, pi + 8, pi + 9, pi + 10, pi + 11]\n"
     ]
    },
    {
     "data": {
      "text/html": [
       "<html><script type=\"math/tex; mode=display\">\\newcommand{\\Bold}[1]{\\mathbf{#1}}\\verb|Surprisingly,|\\phantom{\\verb!x!}\\verb|Sage|\\phantom{\\verb!x!}\\verb|prefers|\\phantom{\\verb!x!}\\verb|the|\\phantom{\\verb!x!}\\verb|use|\\phantom{\\verb!x!}\\verb|of|\\phantom{\\verb!x!}\\verb|[..]|\\phantom{\\verb!x!}\\verb|to|\\phantom{\\verb!x!}\\verb|range()|</script></html>"
      ],
      "text/plain": [
       "'Surprisingly, Sage prefers the use of [..] to range()'"
      ]
     },
     "execution_count": 2,
     "metadata": {},
     "output_type": "execute_result"
    }
   ],
   "source": [
    "for i in [1..5]:\n",
    "    print(i)\n",
    "for i in range(1,5):\n",
    "    print(i)\n",
    "#[print(7*i) for i in range(5)] # This only works in python3\n",
    "#[1..5] in Sage is the same as range(1,6) in python2.\n",
    "print([pi, (pi+1)..15])\n",
    "\n",
    "'''Surprisingly, Sage prefers the use of [..] to range()'''"
   ]
  },
  {
   "cell_type": "code",
   "execution_count": 3,
   "metadata": {},
   "outputs": [
    {
     "data": {
      "text/html": [
       "<html><script type=\"math/tex; mode=display\">\\newcommand{\\Bold}[1]{\\mathbf{#1}}\\frac{4}{3} \\, m^{3} + 3 \\, m^{2} + \\frac{5}{3} \\, m</script></html>"
      ],
      "text/plain": [
       "4/3*m^3 + 3*m^2 + 5/3*m"
      ]
     },
     "metadata": {},
     "output_type": "display_data"
    },
    {
     "data": {
      "text/html": [
       "<html><script type=\"math/tex; mode=display\">\\newcommand{\\Bold}[1]{\\mathbf{#1}}\\frac{1}{3} \\, {\\left(4 \\, m + 5\\right)} {\\left(m + 1\\right)} m</script></html>"
      ],
      "text/plain": [
       "1/3*(4*m + 5)*(m + 1)*m"
      ]
     },
     "metadata": {},
     "output_type": "display_data"
    }
   ],
   "source": [
    "m, k = var('m, k')\n",
    "res = sum(2*k*(2*k+1), k, 1, m)\n",
    "res.show()\n",
    "res.factor().show()"
   ]
  },
  {
   "cell_type": "code",
   "execution_count": 4,
   "metadata": {},
   "outputs": [
    {
     "data": {
      "text/html": [
       "<html><script type=\"math/tex; mode=display\">\\newcommand{\\Bold}[1]{\\mathbf{#1}}\\frac{4 \\, a b}{a + \\frac{4 \\, a b}{a + b} + b}</script></html>"
      ],
      "text/plain": [
       "4*a*b/(a + 4*a*b/(a + b) + b)"
      ]
     },
     "execution_count": 4,
     "metadata": {},
     "output_type": "execute_result"
    }
   ],
   "source": [
    "var('a,b')\n",
    "var('k', domain = 'integer')\n",
    "assume(k>0)\n",
    "\n",
    "def u(m):\n",
    "    if m==0:\n",
    "        return a\n",
    "    elif m>0:\n",
    "        return 2*u(m-1)*v(m-1)/(u(m-1)+v(m-1))\n",
    "    else:\n",
    "        return None\n",
    "def v(m):\n",
    "    if m==0:\n",
    "        return b\n",
    "    elif m>0:\n",
    "        return (u(m-1) + v(m-1))/2\n",
    "    else:\n",
    "        return None\n",
    "u(2)"
   ]
  },
  {
   "cell_type": "code",
   "execution_count": 5,
   "metadata": {},
   "outputs": [],
   "source": [
    "var('m')\n",
    "def fib2 (m):\n",
    "    if 0 <= m <= 1: return m\n",
    "    else: return fib2(m-1) + fib2(m-2)\n",
    "\n",
    "@cached_function\n",
    "def fib2a (m):\n",
    "    if 0 <= m <= 1: return m\n",
    "    else: return fib2a(m-1) + fib2a(m-2)"
   ]
  },
  {
   "cell_type": "code",
   "execution_count": 6,
   "metadata": {},
   "outputs": [
    {
     "name": "stdout",
     "output_type": "stream",
     "text": [
      "The slowest run took 516.61 times longer than the fastest. This could mean that an intermediate result is being cached.\n",
      "1000000 loops, best of 3: 337 ns per loop\n"
     ]
    }
   ],
   "source": [
    "%timeit fib2a(30)"
   ]
  },
  {
   "cell_type": "code",
   "execution_count": 7,
   "metadata": {},
   "outputs": [
    {
     "name": "stdout",
     "output_type": "stream",
     "text": [
      "1 loop, best of 3: 1.25 s per loop\n"
     ]
    }
   ],
   "source": [
    "%timeit fib2(30)"
   ]
  }
 ],
 "metadata": {
  "kernelspec": {
   "display_name": "SageMath 8.1",
   "language": "",
   "name": "sagemath"
  },
  "language_info": {
   "codemirror_mode": {
    "name": "ipython",
    "version": 2
   },
   "file_extension": ".py",
   "mimetype": "text/x-python",
   "name": "python",
   "nbconvert_exporter": "python",
   "pygments_lexer": "ipython2",
   "version": "2.7.14"
  }
 },
 "nbformat": 4,
 "nbformat_minor": 2
}
